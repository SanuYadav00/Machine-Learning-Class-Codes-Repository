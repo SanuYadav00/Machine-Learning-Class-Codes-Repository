{
 "cells": [
  {
   "cell_type": "code",
   "execution_count": 1,
   "id": "7cacf828-7706-4d22-96bd-01d1c24d46e6",
   "metadata": {},
   "outputs": [],
   "source": [
    "import numpy as np\n",
    "import pandas as pd\n",
    "from sklearn.model_selection import train_test_split\n",
    "from sklearn.preprocessing import LabelEncoder, StandardScaler\n",
    "from sklearn.neighbors import KNeighborsClassifier\n",
    "from sklearn.metrics import accuracy_score"
   ]
  },
  {
   "cell_type": "code",
   "execution_count": 2,
   "id": "341d7e18-d3ba-4abb-96ec-202424c61a1b",
   "metadata": {},
   "outputs": [],
   "source": [
    "Color = ['white', 'green', 'green', 'white', 'green', 'white', 'white', 'white']\n",
    "Legs = [3, 2, 3, 3, 2, 2, 2, 2]\n",
    "Height = ['short', 'tall', 'short', 'short', 'short', 'tall', 'tall', 'short']\n",
    "Smelly = ['Yes', 'No', 'Yes', 'Yes', 'No', 'No', 'No', 'Yes']\n",
    "Species = ['M', 'M', 'M', 'M', 'H', 'H', 'H', 'H']\n",
    "\n",
    "data = pd.DataFrame({\n",
    "    'Color': Color,\n",
    "    'Legs': Legs,\n",
    "    'Height': Height,\n",
    "    'Smelly': Smelly,\n",
    "    'Species': Species\n",
    "})"
   ]
  },
  {
   "cell_type": "code",
   "execution_count": 3,
   "id": "3488f80e-ad32-4ca8-9e46-fa3d36352e70",
   "metadata": {},
   "outputs": [],
   "source": [
    "label_encoders = {}\n",
    "for column in ['Color', 'Height', 'Smelly', 'Species']:\n",
    "    le = LabelEncoder()\n",
    "    data[column] = le.fit_transform(data[column])\n",
    "    label_encoders[column] = le\n",
    "\n",
    "X = data[['Color', 'Legs', 'Height', 'Smelly']]\n",
    "y = data['Species']\n",
    "\n",
    "X_train, X_test, y_train, y_test = train_test_split(X, y, test_size=0.25, random_state=42)\n",
    "\n",
    "scaler = StandardScaler()\n",
    "X_train = scaler.fit_transform(X_train)\n",
    "X_test = scaler.transform(X_test)\n",
    "\n",
    "knn = KNeighborsClassifier(n_neighbors=3)\n",
    "knn.fit(X_train, y_train)\n",
    "\n",
    "y_pred = knn.predict(X_test)"
   ]
  },
  {
   "cell_type": "code",
   "execution_count": 4,
   "id": "545d5ef6-42ce-4a73-bb7f-21c8cf8f34af",
   "metadata": {},
   "outputs": [
    {
     "name": "stdout",
     "output_type": "stream",
     "text": [
      "Accuracy on test set: 50.00%\n",
      "Predicted species: H\n"
     ]
    }
   ],
   "source": [
    "accuracy = accuracy_score(y_test, y_pred)\n",
    "print(f\"Accuracy on test set: {accuracy * 100:.2f}%\")\n",
    "\n",
    "new_data = pd.DataFrame({\n",
    "    'Color': ['green'],\n",
    "    'Legs': [2],\n",
    "    'Height': ['tall'],\n",
    "    'Smelly': ['No']\n",
    "})\n",
    "\n",
    "for column in ['Color', 'Height', 'Smelly']:\n",
    "    new_data[column] = label_encoders[column].transform(new_data[column])\n",
    "new_data = scaler.transform(new_data)\n",
    "\n",
    "prediction = knn.predict(new_data)\n",
    "\n",
    "predicted_species = label_encoders['Species'].inverse_transform(prediction)\n",
    "print(f\"Predicted species: {predicted_species[0]}\")"
   ]
  }
 ],
 "metadata": {
  "kernelspec": {
   "display_name": "Python 3 (ipykernel)",
   "language": "python",
   "name": "python3"
  },
  "language_info": {
   "codemirror_mode": {
    "name": "ipython",
    "version": 3
   },
   "file_extension": ".py",
   "mimetype": "text/x-python",
   "name": "python",
   "nbconvert_exporter": "python",
   "pygments_lexer": "ipython3",
   "version": "3.12.7"
  }
 },
 "nbformat": 4,
 "nbformat_minor": 5
}
