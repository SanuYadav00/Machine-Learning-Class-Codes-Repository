{
 "cells": [
  {
   "cell_type": "code",
   "execution_count": 1,
   "id": "c1f4679b-a3df-4a73-8efa-8dbd603a92c5",
   "metadata": {},
   "outputs": [],
   "source": [
    "import numpy as np\n",
    "import pandas as pd\n",
    "from math import log2"
   ]
  },
  {
   "cell_type": "code",
   "execution_count": 2,
   "id": "bcef59e6-27e8-423f-a311-9aa20cefd47f",
   "metadata": {},
   "outputs": [],
   "source": [
    "data = pd.DataFrame({\n",
    "    'Instance': ['S1', 'S2', 'S3', 'S4', 'S5', 'S6', 'S7', 'S8', 'S9', 'S10', 'S11', 'S12', 'S13', 'S14'],\n",
    "    'Outlook': ['Sunny', 'Sunny', 'Overcast', 'Rain', 'Rain', 'Rain', 'Overcast', 'Sunny', 'Sunny', 'Rain', 'Sunny', 'Overcast', 'Overcast', 'Rain'],\n",
    "    'Temperature': ['Hot', 'Hot', 'Hot', 'Mild', 'Cool', 'Cool', 'Cool', 'Mild', 'Cool', 'Mild', 'Mild', 'Mild', 'Hot', 'Mild'],\n",
    "    'Humidity': ['High', 'High', 'High', 'High', 'Normal', 'Normal', 'Normal', 'High', 'Normal', 'Normal', 'Normal', 'High', 'Normal', 'High'],\n",
    "    'Wind': ['Weak', 'Strong', 'Weak', 'Weak', 'Weak', 'Strong', 'Strong', 'Weak', 'Weak', 'Weak', 'Strong', 'Strong', 'Weak', 'Strong'],\n",
    "    'Play Tennis': ['No', 'No', 'Yes', 'Yes', 'Yes', 'No', 'Yes', 'No', 'Yes', 'Yes', 'Yes', 'Yes', 'Yes', 'No']\n",
    "})"
   ]
  },
  {
   "cell_type": "code",
   "execution_count": 3,
   "id": "016eca5f-2f08-4b13-8a2c-b162c1dba258",
   "metadata": {},
   "outputs": [],
   "source": [
    "def entropy(column):\n",
    "    values, counts = np.unique(column, return_counts=True)\n",
    "    probabilities = counts / len(column)\n",
    "    return -sum(p * log2(p) for p in probabilities)\n",
    "\n",
    "\n",
    "def information_gain(data, target_column, feature_column):\n",
    "    # Calculate the total entropy of the target\n",
    "    total_entropy = entropy(data[target_column])\n",
    "\n",
    "    values, counts = np.unique(data[feature_column], return_counts=True)\n",
    "    weighted_entropy = sum((counts[i] / sum(counts)) * entropy(data[data[feature_column] == values[i]][target_column]) for i in range(len(values)))\n",
    "\n",
    "    return total_entropy - weighted_entropy"
   ]
  },
  {
   "cell_type": "code",
   "execution_count": 4,
   "id": "36d1c9ca-360c-46df-b2d7-e7c717aec9bc",
   "metadata": {},
   "outputs": [
    {
     "name": "stdout",
     "output_type": "stream",
     "text": [
      "Entropies:\n",
      "Entropy of Play Tennis: 0.9403\n"
     ]
    }
   ],
   "source": [
    "print(\"Entropies:\")\n",
    "target_entropy = entropy(data['Play Tennis'])\n",
    "print(f\"Entropy of Play Tennis: {target_entropy:.4f}\")\n"
   ]
  },
  {
   "cell_type": "code",
   "execution_count": 5,
   "id": "687f26bf-0d01-4f33-ad27-80bac9deffd5",
   "metadata": {},
   "outputs": [
    {
     "name": "stdout",
     "output_type": "stream",
     "text": [
      "Entropy of Outlook: 1.5774\n",
      "Entropy of Temperature: 1.5567\n",
      "Entropy of Humidity: 1.0000\n",
      "Entropy of Wind: 0.9852\n"
     ]
    }
   ],
   "source": [
    "features = ['Outlook', 'Temperature', 'Humidity', 'Wind']\n",
    "feature_entropies = {}\n",
    "for feature in features:\n",
    "    feature_entropy = entropy(data[feature])\n",
    "    feature_entropies[feature] = feature_entropy\n",
    "    print(f\"Entropy of {feature}: {feature_entropy:.4f}\")"
   ]
  },
  {
   "cell_type": "code",
   "execution_count": 6,
   "id": "3e741109-68e2-42a5-9f95-fdfb6d73bb18",
   "metadata": {},
   "outputs": [
    {
     "name": "stdout",
     "output_type": "stream",
     "text": [
      "\n",
      "Information Gains:\n",
      "Information Gain for Outlook: 0.2467\n",
      "Information Gain for Temperature: 0.0292\n",
      "Information Gain for Humidity: 0.1518\n",
      "Information Gain for Wind: 0.0481\n"
     ]
    }
   ],
   "source": [
    "print(\"\\nInformation Gains:\")\n",
    "for feature in features:\n",
    "    ig = information_gain(data, 'Play Tennis', feature)\n",
    "    print(f\"Information Gain for {feature}: {ig:.4f}\")\n"
   ]
  }
 ],
 "metadata": {
  "kernelspec": {
   "display_name": "Python 3 (ipykernel)",
   "language": "python",
   "name": "python3"
  },
  "language_info": {
   "codemirror_mode": {
    "name": "ipython",
    "version": 3
   },
   "file_extension": ".py",
   "mimetype": "text/x-python",
   "name": "python",
   "nbconvert_exporter": "python",
   "pygments_lexer": "ipython3",
   "version": "3.12.7"
  }
 },
 "nbformat": 4,
 "nbformat_minor": 5
}
